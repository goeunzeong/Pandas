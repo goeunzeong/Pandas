{
 "cells": [
  {
   "cell_type": "markdown",
   "metadata": {},
   "source": [
    "**1. 아래에 선언된 문자형 변수를 추출하여, 과목, 이름, 일자를 딕셔너리 형태로 출력하시오**\n",
    "\n",
    "\n",
    "* 결과 : {'과목':'Python','성함':'홍길동','일자':'20190701'} **"
   ]
  },
  {
   "cell_type": "code",
   "execution_count": 1,
   "metadata": {},
   "outputs": [],
   "source": [
    "string1 = \"Python_실무_데이터_분석_교육_홍길동_20190701.csv\""
   ]
  },
  {
   "cell_type": "code",
   "execution_count": 5,
   "metadata": {},
   "outputs": [
    {
     "data": {
      "text/plain": [
       "['Python', '실무', '데이터', '분석', '교육', '홍길동', '20190701.csv']"
      ]
     },
     "execution_count": 5,
     "metadata": {},
     "output_type": "execute_result"
    }
   ],
   "source": [
    "string1_s = string1.split('_')\n",
    "string1_s"
   ]
  },
  {
   "cell_type": "code",
   "execution_count": 6,
   "metadata": {},
   "outputs": [
    {
     "data": {
      "text/plain": [
       "{'과목': 'Python', '성함': '홍길동', '일자': '20190701'}"
      ]
     },
     "execution_count": 6,
     "metadata": {},
     "output_type": "execute_result"
    }
   ],
   "source": [
    "string1_d = {'과목':string1_s[0], '성함':string1_s[-2], '일자': string1_s[-1][0:-4]}\n",
    "string1_d"
   ]
  },
  {
   "attachments": {
    "image.png": {
     "image/png": "[encoded data removed]"
    }
   },
   "cell_type": "markdown",
   "metadata": {},
   "source": [
    "**2. 키와 몸무게를 입력받아 BMI 수치를 계산하는 프로그램을 제작하고, 새로운 값을 입력할 때마다, result_list에 결과를 추가하시오**\n",
    "\n",
    "* 조건 : 새로운 값을 입력 할 때 마다 기존의 데이터가 삭제되지 않고 추가되어야 합니다.\n",
    "\n",
    "![image.png](attachment:image.png)"
   ]
  },
  {
   "cell_type": "code",
   "execution_count": 9,
   "metadata": {},
   "outputs": [],
   "source": [
    "result_list = [ ]"
   ]
  },
  {
   "cell_type": "code",
   "execution_count": 171,
   "metadata": {},
   "outputs": [],
   "source": [
    "def get_bmi (weight, height, result_list):\n",
    "      return result_list.append(weight / (height*0.01)**2)"
   ]
  },
  {
   "cell_type": "code",
   "execution_count": 172,
   "metadata": {},
   "outputs": [
    {
     "name": "stdout",
     "output_type": "stream",
     "text": [
      "키(m)와 몸무게(kg)를 입력하세요: 입력양식: 키, 몸무게170,65\n"
     ]
    }
   ],
   "source": [
    "height, weight = input('키(cm)와 몸무게(kg)를 입력하세요: 입력양식: 키, 몸무게').split(',')\n",
    "height = float(height)\n",
    "weight = float(weight)"
   ]
  },
  {
   "cell_type": "code",
   "execution_count": 173,
   "metadata": {},
   "outputs": [
    {
     "name": "stdout",
     "output_type": "stream",
     "text": [
      "[0.2925531914893617, 0.45714285714285713, 22.49134948096886]\n"
     ]
    }
   ],
   "source": [
    "get_bmi(weight, height, result_list)\n",
    "print(result_list)"
   ]
  },
  {
   "cell_type": "markdown",
   "metadata": {},
   "source": [
    "\n",
    "\n",
    "**3. 아래의 리스트를 문자열로 변환하시오**\n",
    "\n",
    "* [\"Music\",\"Is\",\"MY\",\"Life\"]  -> Music is my life"
   ]
  },
  {
   "cell_type": "code",
   "execution_count": 174,
   "metadata": {},
   "outputs": [],
   "source": [
    "list3 = [\"Music\",\"Is\",\"MY\",\"Life\"]"
   ]
  },
  {
   "cell_type": "code",
   "execution_count": 176,
   "metadata": {},
   "outputs": [
    {
     "data": {
      "text/plain": [
       "'Music is my life'"
      ]
     },
     "execution_count": 176,
     "metadata": {},
     "output_type": "execute_result"
    }
   ],
   "source": [
    "list3_1 = list3[0]+' '+list3[1].lower()+' '+list3[2].lower()+' '+list3[3].lower()\n",
    "list3_1"
   ]
  },
  {
   "cell_type": "markdown",
   "metadata": {},
   "source": [
    "**4. A 학생의 과목별 점수가 아래와 같을 때, 이 점수를 딕셔너리 형태로 선언하고, 평균을 계산하오**\n",
    "\n",
    "* A : 국어 75, 영어 53, 수학 90, 사회 46, 한국사 60, 세계사 70, 과학, 34\n",
    "* 과목명은 Key값, 점수는 Value 값\n",
    "     "
   ]
  },
  {
   "cell_type": "code",
   "execution_count": 40,
   "metadata": {},
   "outputs": [
    {
     "data": {
      "text/plain": [
       "{'국어': 75, '영어': 53, '수학': 90, '사회': 46, '한국사': 60, '세계사': 70, '과학': 34}"
      ]
     },
     "execution_count": 40,
     "metadata": {},
     "output_type": "execute_result"
    }
   ],
   "source": [
    "score_A = {'국어': 75, '영어': 53, '수학': 90, '사회': 46, '한국사': 60, '세계사': 70, '과학': 34}\n",
    "score_A"
   ]
  },
  {
   "cell_type": "code",
   "execution_count": 46,
   "metadata": {},
   "outputs": [
    {
     "data": {
      "text/plain": [
       "61.142857142857146"
      ]
     },
     "execution_count": 46,
     "metadata": {},
     "output_type": "execute_result"
    }
   ],
   "source": [
    "mean_A = (sum(score_A.values()))/len(score_A)\n",
    "mean_A"
   ]
  },
  {
   "cell_type": "markdown",
   "metadata": {},
   "source": [
    "**5. 아래 선언된 튜플에 80 이라는 값을 추가하여 출력하시오**"
   ]
  },
  {
   "cell_type": "code",
   "execution_count": 89,
   "metadata": {},
   "outputs": [
    {
     "data": {
      "text/plain": [
       "(13, 234, 53, 22, 35)"
      ]
     },
     "execution_count": 89,
     "metadata": {},
     "output_type": "execute_result"
    }
   ],
   "source": [
    "t1 = (13,234,53,22,35) \n",
    "t1"
   ]
  },
  {
   "cell_type": "code",
   "execution_count": 90,
   "metadata": {},
   "outputs": [
    {
     "data": {
      "text/plain": [
       "[13, 234, 53, 22, 35]"
      ]
     },
     "execution_count": 90,
     "metadata": {},
     "output_type": "execute_result"
    }
   ],
   "source": [
    "t1_list = list(t1)\n",
    "t1_list"
   ]
  },
  {
   "cell_type": "code",
   "execution_count": 91,
   "metadata": {},
   "outputs": [
    {
     "data": {
      "text/plain": [
       "(13, 234, 53, 22, 35, 80)"
      ]
     },
     "execution_count": 91,
     "metadata": {},
     "output_type": "execute_result"
    }
   ],
   "source": [
    "t1_list.append(80)\n",
    "tuple(t1_list)"
   ]
  },
  {
   "cell_type": "markdown",
   "metadata": {},
   "source": [
    "**6. 아래의 리스트에서 A 문자를 C 문자로 바꾸어 출력하시오**\n"
   ]
  },
  {
   "cell_type": "code",
   "execution_count": 93,
   "metadata": {},
   "outputs": [],
   "source": [
    "list1 = [\"A\", 123, \"B\", \"D\", \"F\"]"
   ]
  },
  {
   "cell_type": "code",
   "execution_count": 94,
   "metadata": {},
   "outputs": [
    {
     "data": {
      "text/plain": [
       "['C', 123, 'B', 'D', 'F']"
      ]
     },
     "execution_count": 94,
     "metadata": {},
     "output_type": "execute_result"
    }
   ],
   "source": [
    "list1[0] = 'C'\n",
    "list1"
   ]
  },
  {
   "cell_type": "code",
   "execution_count": null,
   "metadata": {},
   "outputs": [],
   "source": [
    "# list1.remove('A')\n",
    "# list1.insert(0, 'C')"
   ]
  },
  {
   "cell_type": "markdown",
   "metadata": {},
   "source": [
    "**7. 어떤 수를 입력했을 때, 입력한 수가 홀수이면 True, 짝수이면 False를 출력하는 프로그램을 제작하시오**\n",
    "\n",
    "* if문을 사용 하지 않고 제작 "
   ]
  },
  {
   "cell_type": "code",
   "execution_count": 100,
   "metadata": {},
   "outputs": [
    {
     "name": "stdout",
     "output_type": "stream",
     "text": [
      "정수를 입력하세요:100\n"
     ]
    }
   ],
   "source": [
    "number1 = int(input('정수를 입력하세요:'))"
   ]
  },
  {
   "cell_type": "code",
   "execution_count": 101,
   "metadata": {},
   "outputs": [
    {
     "name": "stdout",
     "output_type": "stream",
     "text": [
      "False\n"
     ]
    }
   ],
   "source": [
    "print(number1 % 2 and \"True\" or \"False\")"
   ]
  },
  {
   "cell_type": "code",
   "execution_count": null,
   "metadata": {},
   "outputs": [],
   "source": [
    "#간단하게 비교구문 사용해도 된다\n",
    "# print(number1%2 == 1 \n",
    "\n",
    "\n",
    "# 또는, \n",
    "# result1 = (number1%2 == 1)\n",
    "# dict1 = {'True': '홀수', 'False':'짝수'}\n",
    "# dict1[result1]"
   ]
  },
  {
   "cell_type": "markdown",
   "metadata": {},
   "source": [
    "**8. 10진수를 입력했을 때, 2진수로 변환하는 프로그램을 제작하시오**\n",
    "\n",
    "* bin( ) : 특정 수를 2진법으로 변환"
   ]
  },
  {
   "cell_type": "code",
   "execution_count": 102,
   "metadata": {},
   "outputs": [
    {
     "name": "stdout",
     "output_type": "stream",
     "text": [
      "2진수로 변환할 10진수를 입력하세요.: 15\n"
     ]
    }
   ],
   "source": [
    "get_10 = int(input('2진수로 변환할 10진수를 입력하세요.: '))"
   ]
  },
  {
   "cell_type": "code",
   "execution_count": 103,
   "metadata": {},
   "outputs": [
    {
     "data": {
      "text/plain": [
       "'0b1111'"
      ]
     },
     "execution_count": 103,
     "metadata": {},
     "output_type": "execute_result"
    }
   ],
   "source": [
    "bin(get_10)"
   ]
  },
  {
   "cell_type": "markdown",
   "metadata": {},
   "source": [
    "**9. 아래의 두 변수를 이용하여, \"Hi ! Python ~\" 으로 출력하시오**\n"
   ]
  },
  {
   "cell_type": "code",
   "execution_count": 107,
   "metadata": {},
   "outputs": [],
   "source": [
    "s1 = 'Hi'\n",
    "s2 = 'Python'"
   ]
  },
  {
   "cell_type": "code",
   "execution_count": 108,
   "metadata": {},
   "outputs": [
    {
     "data": {
      "text/plain": [
       "'Hi! Python ~'"
      ]
     },
     "execution_count": 108,
     "metadata": {},
     "output_type": "execute_result"
    }
   ],
   "source": [
    "s1+'! '+s2+' ~'"
   ]
  },
  {
   "cell_type": "markdown",
   "metadata": {},
   "source": [
    "**10. 아래 두 개의 튜플을 하나의 딕셔너리로 변환하시오**\n",
    "\n",
    "* keys를 키로, vals를 값으로 result 이름의 딕셔너리로 저장\n",
    "* zip( ) : 두 개의 자료형을 하나의 자료형으로 묶어준다."
   ]
  },
  {
   "cell_type": "code",
   "execution_count": 135,
   "metadata": {},
   "outputs": [],
   "source": [
    "keys = ('apple', 'pear', 'peach')\n",
    "vals = (300, 250, 400)"
   ]
  },
  {
   "cell_type": "code",
   "execution_count": 136,
   "metadata": {},
   "outputs": [
    {
     "data": {
      "text/plain": [
       "{'apple': 300, 'pear': 250, 'peach': 400}"
      ]
     },
     "execution_count": 136,
     "metadata": {},
     "output_type": "execute_result"
    }
   ],
   "source": [
    "keys = list(keys)\n",
    "vals = list(vals)\n",
    "\n",
    "dict(zip(keys, vals))"
   ]
  },
  {
   "cell_type": "markdown",
   "metadata": {},
   "source": [
    "**11. 금액을 입력했을 때, 상품 가격에 따른 잔돈을 반환하는 자판기 프로그램을 제작하시오**\n",
    "\n",
    "* 금액과, 상품가격은 정수형으로 입력\n",
    "* 잔돈은 500,100,50,10 단위\n",
    "* 잔돈은 가장 큰 금액부터 반환 "
   ]
  },
  {
   "cell_type": "code",
   "execution_count": 146,
   "metadata": {
    "scrolled": true
   },
   "outputs": [
    {
     "name": "stdout",
     "output_type": "stream",
     "text": [
      "금액을 입력하세요: 5760\n"
     ]
    }
   ],
   "source": [
    "money = int(input('금액을 입력하세요: '))"
   ]
  },
  {
   "cell_type": "code",
   "execution_count": 147,
   "metadata": {},
   "outputs": [
    {
     "name": "stdout",
     "output_type": "stream",
     "text": [
      "상품 가격을 입력하세요: 1500\n"
     ]
    }
   ],
   "source": [
    "cost = int(input('상품 가격을 입력하세요: '))"
   ]
  },
  {
   "cell_type": "code",
   "execution_count": 149,
   "metadata": {},
   "outputs": [
    {
     "name": "stdout",
     "output_type": "stream",
     "text": [
      "500원짜리는 8개 반환됩니다.\n",
      "100원짜리는 2개 반환됩니다.\n",
      "50원짜리는 1개 반환됩니다.\n",
      "10원짜리는 1개 반환됩니다.\n"
     ]
    }
   ],
   "source": [
    "change = money - cost\n",
    "\n",
    "change_500 = change // 500\n",
    "print('500원짜리는 {}개 반환됩니다.'.format(change_500))\n",
    "change_500_l = change % 500\n",
    "\n",
    "change_100 = change_500_l // 100\n",
    "print('100원짜리는 {}개 반환됩니다.'.format(change_100))\n",
    "change_100_l = change_500_l % 100\n",
    "\n",
    "change_50 = change_100_l // 50\n",
    "print('50원짜리는 {}개 반환됩니다.'.format(change_50))\n",
    "change_50_l = change_100_l % 50\n",
    "\n",
    "change_10 = change_50_l // 10\n",
    "print('10원짜리는 {}개 반환됩니다.'.format(change_10))"
   ]
  },
  {
   "cell_type": "markdown",
   "metadata": {},
   "source": [
    "**12. 아래 두 개의 리스트에서 중복된 값을 제거하여 출력하시오**\n",
    "\n",
    "* 결과 : [1,3,5]"
   ]
  },
  {
   "cell_type": "code",
   "execution_count": 163,
   "metadata": {},
   "outputs": [],
   "source": [
    "list1 = [1,2,3,4,5,6,7,8,9]\n",
    "list2 = [2,4,6,7,8,9]"
   ]
  },
  {
   "cell_type": "code",
   "execution_count": 164,
   "metadata": {},
   "outputs": [],
   "source": [
    "set_list1 = set(list1)\n",
    "set_list2 = set(list2)"
   ]
  },
  {
   "cell_type": "code",
   "execution_count": 166,
   "metadata": {},
   "outputs": [
    {
     "data": {
      "text/plain": [
       "[1, 3, 5]"
      ]
     },
     "execution_count": 166,
     "metadata": {},
     "output_type": "execute_result"
    }
   ],
   "source": [
    "list(set_list1 - set_list2)"
   ]
  },
  {
   "cell_type": "code",
   "execution_count": null,
   "metadata": {},
   "outputs": [],
   "source": [
    "# s1 | s2 \n",
    "# s1 & s2\n",
    "# list(s1^s2) # 대상 차집합"
   ]
  },
  {
   "cell_type": "markdown",
   "metadata": {},
   "source": [
    "**13. 아래 리스트의 문자열을 하나의 문장으로 출력하시오**\n",
    "\n",
    "* 결과 : \"Python 실무 데이터 분석 과정\""
   ]
  },
  {
   "cell_type": "code",
   "execution_count": 167,
   "metadata": {},
   "outputs": [],
   "source": [
    "list1 = ['Python', '실무','데이터', '분석','과정']"
   ]
  },
  {
   "cell_type": "code",
   "execution_count": 170,
   "metadata": {},
   "outputs": [
    {
     "name": "stdout",
     "output_type": "stream",
     "text": [
      "Python 실무 데이터 분석 과정\n"
     ]
    }
   ],
   "source": [
    "print(list1[0], list1[1], list1[2], list1[3], list1[4])"
   ]
  },
  {
   "cell_type": "code",
   "execution_count": null,
   "metadata": {},
   "outputs": [],
   "source": []
  }
 ],
 "metadata": {
  "kernelspec": {
   "display_name": "Python 3 (ipykernel)",
   "language": "python",
   "name": "python3"
  },
  "language_info": {
   "codemirror_mode": {
    "name": "ipython",
    "version": 3
   },
   "file_extension": ".py",
   "mimetype": "text/x-python",
   "name": "python",
   "nbconvert_exporter": "python",
   "pygments_lexer": "ipython3",
   "version": "3.8.12"
  },
  "toc": {
   "base_numbering": 1,
   "nav_menu": {},
   "number_sections": true,
   "sideBar": true,
   "skip_h1_title": false,
   "title_cell": "Table of Contents",
   "title_sidebar": "Contents",
   "toc_cell": false,
   "toc_position": {},
   "toc_section_display": true,
   "toc_window_display": false
  }
 },
 "nbformat": 4,
 "nbformat_minor": 2
}
