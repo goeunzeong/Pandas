{
 "cells": [
  {
   "cell_type": "markdown",
   "metadata": {},
   "source": [
    "**1. For 반복문을 이용하여, 1부터 입력받은 수 까지 제곱 합을 구하는 프로그램을 만드시오.**\n",
    "\n",
    "Ex ) 1² + 2² + 3² + 4² + ...  + n²"
   ]
  },
  {
   "cell_type": "code",
   "execution_count": 1,
   "metadata": {},
   "outputs": [
    {
     "name": "stdout",
     "output_type": "stream",
     "text": [
      "제곱합을 구할 마지막 정수를 입력하세요: 3\n"
     ]
    }
   ],
   "source": [
    "num = int(input('제곱합을 구할 마지막 정수를 입력하세요: '))"
   ]
  },
  {
   "cell_type": "code",
   "execution_count": 8,
   "metadata": {},
   "outputs": [
    {
     "data": {
      "text/plain": [
       "14"
      ]
     },
     "execution_count": 8,
     "metadata": {},
     "output_type": "execute_result"
    }
   ],
   "source": [
    "def get_squre(num):\n",
    "    sum1 = 0\n",
    "    for i in range (1, num+1):\n",
    "        sum1 = sum1 + (i**2)\n",
    "    return sum1\n",
    "\n",
    "get_squre(num)"
   ]
  },
  {
   "cell_type": "markdown",
   "metadata": {},
   "source": [
    "**2. If 조건문을 이용하여, 어떤 수를 입력했을 때, 홀수와 짝수를 구분하는 프로그램을 만드시오.**"
   ]
  },
  {
   "cell_type": "code",
   "execution_count": 14,
   "metadata": {},
   "outputs": [
    {
     "name": "stdout",
     "output_type": "stream",
     "text": [
      "짝수 홀수를 판별할 정수를 입력하세요.: 8\n",
      "짝수입니다.\n"
     ]
    }
   ],
   "source": [
    "num2 = int(input('짝수 홀수를 판별할 정수를 입력하세요.: '))\n",
    "\n",
    "if num2 % 2 == 0:\n",
    "    print('짝수입니다.')\n",
    "else:\n",
    "    print('홀수입니다.')"
   ]
  },
  {
   "cell_type": "markdown",
   "metadata": {},
   "source": [
    "**3. 어떤 리스트의 중복을 제거하는 함수(def)를 만드시오.**\n",
    "\n",
    "Ex) \n",
    "    * 입력 : A= [1,2,3,4,4,4,5,7,7,7,7]  \n",
    "    * 결과 :  [1,2,3,4,5,7]"
   ]
  },
  {
   "cell_type": "code",
   "execution_count": 15,
   "metadata": {},
   "outputs": [],
   "source": [
    "A = [1,2,3,4,4,4,5,7,7,7,7]"
   ]
  },
  {
   "cell_type": "code",
   "execution_count": 16,
   "metadata": {},
   "outputs": [
    {
     "data": {
      "text/plain": [
       "[1, 2, 3, 4, 5, 7]"
      ]
     },
     "execution_count": 16,
     "metadata": {},
     "output_type": "execute_result"
    }
   ],
   "source": [
    "def delete_dup(A):\n",
    "    return list(set(A))\n",
    "\n",
    "delete_dup(A)"
   ]
  },
  {
   "cell_type": "markdown",
   "metadata": {},
   "source": [
    "**4. 두 개의 이중 리스트를 Matrix(행렬)로 변환하여, 각 성분끼리 더하는 함수를(def) 만드시오.**"
   ]
  },
  {
   "cell_type": "code",
   "execution_count": 9,
   "metadata": {},
   "outputs": [],
   "source": [
    "import numpy as np\n",
    "\n",
    "list1 = [[1,2,3],[9,8,7],[3,4,2]]\n",
    "list2 = [[2,3,4],[1,3,4,],[1,3,4]]"
   ]
  },
  {
   "cell_type": "code",
   "execution_count": 10,
   "metadata": {},
   "outputs": [
    {
     "data": {
      "text/plain": [
       "array([[ 3,  5,  7],\n",
       "       [10, 11, 11],\n",
       "       [ 4,  7,  6]])"
      ]
     },
     "execution_count": 10,
     "metadata": {},
     "output_type": "execute_result"
    }
   ],
   "source": [
    "def get_matrix_sum(list1, list2):\n",
    "    array1 = np.array(list1)\n",
    "    array2 = np.array(list2)\n",
    "    return array1+array2\n",
    "\n",
    "get_matrix_sum(list1, list2)"
   ]
  },
  {
   "cell_type": "markdown",
   "metadata": {},
   "source": [
    "**5. Pandas 라이브러리를 이용하여, 아래와 같은 Series를 생성하시오.**"
   ]
  },
  {
   "cell_type": "code",
   "execution_count": 5,
   "metadata": {
    "scrolled": true
   },
   "outputs": [],
   "source": [
    "import pandas as pd"
   ]
  },
  {
   "cell_type": "markdown",
   "metadata": {},
   "source": [
    "연도    2019\n",
    "월        7\n",
    "일       20\n",
    "성함     이영호\n",
    "소속      HR\n",
    "Name: Person, dtype: object"
   ]
  },
  {
   "cell_type": "code",
   "execution_count": 14,
   "metadata": {},
   "outputs": [
    {
     "data": {
      "text/plain": [
       "연도    2019\n",
       "월        7\n",
       "일       20\n",
       "성함     이영호\n",
       "소속      HR\n",
       "dtype: object"
      ]
     },
     "execution_count": 14,
     "metadata": {},
     "output_type": "execute_result"
    }
   ],
   "source": [
    "df1 = pd.Series({'연도': 2019, '월': 7, '일': 20, '성함': '이영호', '소속': 'HR'})\n",
    "df1"
   ]
  },
  {
   "cell_type": "code",
   "execution_count": null,
   "metadata": {},
   "outputs": [],
   "source": [
    "# 딕셔너리 -> 시리즈 -> 데이터프레임\n",
    "# 데이터프레임 -> 시리즈 -> 딕셔너리"
   ]
  },
  {
   "cell_type": "markdown",
   "metadata": {},
   "source": [
    "**6. 아래 리스트의 평균을 계산하시오.**"
   ]
  },
  {
   "cell_type": "code",
   "execution_count": 16,
   "metadata": {},
   "outputs": [],
   "source": [
    "list1 = [1,1.2,3,4,2,2.2,3.4,0.8,20]"
   ]
  },
  {
   "cell_type": "code",
   "execution_count": 17,
   "metadata": {},
   "outputs": [
    {
     "data": {
      "text/plain": [
       "4.177777777777777"
      ]
     },
     "execution_count": 17,
     "metadata": {},
     "output_type": "execute_result"
    }
   ],
   "source": [
    "sum(list1)/len(list1)"
   ]
  },
  {
   "cell_type": "markdown",
   "metadata": {},
   "source": [
    "**7. If 조건문을 이용하여, 특정 값을 입력했을 때, 해당 값이 3의 배수인지 아닌지 판별하는 함수(def)를 만드시오.**"
   ]
  },
  {
   "cell_type": "code",
   "execution_count": 18,
   "metadata": {},
   "outputs": [
    {
     "name": "stdout",
     "output_type": "stream",
     "text": [
      "3의 배수인지 판별할 정수를 입력하세요: 12\n",
      "3의 배수입니다.\n"
     ]
    }
   ],
   "source": [
    "num7 = int(input('3의 배수인지 판별할 정수를 입력하세요: '))\n",
    "\n",
    "def get_3times(num):\n",
    "    if num % 3 == 0:\n",
    "        print('3의 배수입니다.')\n",
    "    else:\n",
    "        print('3의 배수가 아닙니다.')\n",
    "\n",
    "get_3times(num7)"
   ]
  },
  {
   "cell_type": "markdown",
   "metadata": {},
   "source": [
    "**8. 연도를 입력했을 때, 윤년인지 평년인지 판별하는 함수(def)를 만드시오**"
   ]
  },
  {
   "cell_type": "markdown",
   "metadata": {},
   "source": [
    "* 윤년의 조건 \n",
    "    - 4로 나누어 떨어지는 년도는 윤년이다\n",
    "    - 그 중 100으로 나누어 떨어지는 년도는 윤년이 아니다\n",
    "    - 400으로 나누어 떨어지는 년도는 무조건 윤년이다\n"
   ]
  },
  {
   "cell_type": "code",
   "execution_count": 1,
   "metadata": {},
   "outputs": [],
   "source": [
    "def get_leapyear(year):\n",
    "    cond1 = (year%4 == 0)\n",
    "    cond2 = (year%100 != 0)\n",
    "    cond3 = (year%400 == 0)\n",
    "    if cond1 & cond2:\n",
    "        print('{}년은 윤년입니다.'.format(year))\n",
    "    elif cond3:\n",
    "        print('{}년은 윤년입니다.'.format(year))\n",
    "    else:\n",
    "        print('{}년은 평년입니다.'.format(year))\n",
    "    \n",
    "    \n",
    "# if (cond1 & cond2) | cond3 : print('윤년입니다.')"
   ]
  },
  {
   "cell_type": "code",
   "execution_count": 3,
   "metadata": {},
   "outputs": [
    {
     "name": "stdout",
     "output_type": "stream",
     "text": [
      "윤년인지 판별할 연도를 입력하세요: 2022\n",
      "2022년은 평년입니다.\n"
     ]
    }
   ],
   "source": [
    "year = int(input('윤년인지 판별할 연도를 입력하세요: '))\n",
    "get_leapyear(year)"
   ]
  },
  {
   "cell_type": "markdown",
   "metadata": {},
   "source": [
    "**9. 2_data.csv 를 Pandas를 이용해 불러와 데이터를 상위 5개 항목만 출력 하시오.** "
   ]
  },
  {
   "cell_type": "code",
   "execution_count": 5,
   "metadata": {},
   "outputs": [],
   "source": [
    "import pandas as pd "
   ]
  },
  {
   "cell_type": "code",
   "execution_count": 6,
   "metadata": {},
   "outputs": [
    {
     "data": {
      "text/html": [
       "<div>\n",
       "<style scoped>\n",
       "    .dataframe tbody tr th:only-of-type {\n",
       "        vertical-align: middle;\n",
       "    }\n",
       "\n",
       "    .dataframe tbody tr th {\n",
       "        vertical-align: top;\n",
       "    }\n",
       "\n",
       "    .dataframe thead th {\n",
       "        text-align: right;\n",
       "    }\n",
       "</style>\n",
       "<table border=\"1\" class=\"dataframe\">\n",
       "  <thead>\n",
       "    <tr style=\"text-align: right;\">\n",
       "      <th></th>\n",
       "      <th>공급일자</th>\n",
       "      <th>요일</th>\n",
       "      <th>공급월</th>\n",
       "      <th>공급주차</th>\n",
       "      <th>회원번호</th>\n",
       "      <th>조합원상태</th>\n",
       "      <th>물품대분류</th>\n",
       "      <th>물품중분류</th>\n",
       "      <th>물품소분류</th>\n",
       "      <th>물품명</th>\n",
       "      <th>구매수량</th>\n",
       "      <th>주소-구</th>\n",
       "      <th>주소-동</th>\n",
       "      <th>성별</th>\n",
       "      <th>연령</th>\n",
       "      <th>연령대</th>\n",
       "      <th>구매금액</th>\n",
       "      <th>구매매장</th>\n",
       "      <th>반품_원거래일자</th>\n",
       "      <th>구매시각</th>\n",
       "    </tr>\n",
       "  </thead>\n",
       "  <tbody>\n",
       "    <tr>\n",
       "      <th>0</th>\n",
       "      <td>2018-01-02</td>\n",
       "      <td>화</td>\n",
       "      <td>1</td>\n",
       "      <td>1</td>\n",
       "      <td>272369856</td>\n",
       "      <td>정상회원</td>\n",
       "      <td>과실</td>\n",
       "      <td>과일</td>\n",
       "      <td>사과</td>\n",
       "      <td>사과/유(1.5kg)</td>\n",
       "      <td>1.0</td>\n",
       "      <td>수지구</td>\n",
       "      <td>풍덕천동</td>\n",
       "      <td>여</td>\n",
       "      <td>45.0</td>\n",
       "      <td>40대</td>\n",
       "      <td>22207</td>\n",
       "      <td>매장C</td>\n",
       "      <td>NaN</td>\n",
       "      <td>10:04</td>\n",
       "    </tr>\n",
       "    <tr>\n",
       "      <th>1</th>\n",
       "      <td>2018-01-02</td>\n",
       "      <td>화</td>\n",
       "      <td>1</td>\n",
       "      <td>1</td>\n",
       "      <td>1506656256</td>\n",
       "      <td>정상회원</td>\n",
       "      <td>채소</td>\n",
       "      <td>버섯</td>\n",
       "      <td>느타리버섯</td>\n",
       "      <td>느타리버섯(300g)</td>\n",
       "      <td>1.0</td>\n",
       "      <td>수지구</td>\n",
       "      <td>풍덕천동</td>\n",
       "      <td>여</td>\n",
       "      <td>36.0</td>\n",
       "      <td>30대이하</td>\n",
       "      <td>4977</td>\n",
       "      <td>매장C</td>\n",
       "      <td>NaN</td>\n",
       "      <td>10:05</td>\n",
       "    </tr>\n",
       "    <tr>\n",
       "      <th>2</th>\n",
       "      <td>2018-01-02</td>\n",
       "      <td>화</td>\n",
       "      <td>1</td>\n",
       "      <td>1</td>\n",
       "      <td>1506656256</td>\n",
       "      <td>정상회원</td>\n",
       "      <td>축산물</td>\n",
       "      <td>알</td>\n",
       "      <td>유정란</td>\n",
       "      <td>유정란/매장용(10알/국내산)</td>\n",
       "      <td>1.0</td>\n",
       "      <td>수지구</td>\n",
       "      <td>풍덕천동</td>\n",
       "      <td>여</td>\n",
       "      <td>36.0</td>\n",
       "      <td>30대이하</td>\n",
       "      <td>7083</td>\n",
       "      <td>매장C</td>\n",
       "      <td>NaN</td>\n",
       "      <td>10:05</td>\n",
       "    </tr>\n",
       "    <tr>\n",
       "      <th>3</th>\n",
       "      <td>2018-01-02</td>\n",
       "      <td>화</td>\n",
       "      <td>1</td>\n",
       "      <td>1</td>\n",
       "      <td>1023108864</td>\n",
       "      <td>정상회원</td>\n",
       "      <td>반찬</td>\n",
       "      <td>두부/유부</td>\n",
       "      <td>두부</td>\n",
       "      <td>연두부(100g)</td>\n",
       "      <td>1.0</td>\n",
       "      <td>수지구</td>\n",
       "      <td>풍덕천동</td>\n",
       "      <td>여</td>\n",
       "      <td>36.0</td>\n",
       "      <td>30대이하</td>\n",
       "      <td>766</td>\n",
       "      <td>매장C</td>\n",
       "      <td>NaN</td>\n",
       "      <td>10:08</td>\n",
       "    </tr>\n",
       "    <tr>\n",
       "      <th>4</th>\n",
       "      <td>2018-01-02</td>\n",
       "      <td>화</td>\n",
       "      <td>1</td>\n",
       "      <td>1</td>\n",
       "      <td>1476143616</td>\n",
       "      <td>정상회원</td>\n",
       "      <td>간식</td>\n",
       "      <td>빵</td>\n",
       "      <td>식빵, 식사대용</td>\n",
       "      <td>아침빵(240g/8개)/매장</td>\n",
       "      <td>1.0</td>\n",
       "      <td>수지구</td>\n",
       "      <td>풍덕천동</td>\n",
       "      <td>여</td>\n",
       "      <td>34.0</td>\n",
       "      <td>30대이하</td>\n",
       "      <td>4403</td>\n",
       "      <td>매장C</td>\n",
       "      <td>NaN</td>\n",
       "      <td>10:09</td>\n",
       "    </tr>\n",
       "  </tbody>\n",
       "</table>\n",
       "</div>"
      ],
      "text/plain": [
       "         공급일자 요일  공급월  공급주차        회원번호 조합원상태 물품대분류  물품중분류     물품소분류  \\\n",
       "0  2018-01-02  화    1     1   272369856  정상회원    과실     과일        사과   \n",
       "1  2018-01-02  화    1     1  1506656256  정상회원    채소     버섯     느타리버섯   \n",
       "2  2018-01-02  화    1     1  1506656256  정상회원   축산물      알       유정란   \n",
       "3  2018-01-02  화    1     1  1023108864  정상회원    반찬  두부/유부        두부   \n",
       "4  2018-01-02  화    1     1  1476143616  정상회원    간식      빵  식빵, 식사대용   \n",
       "\n",
       "                물품명  구매수량 주소-구  주소-동 성별    연령    연령대   구매금액 구매매장  반품_원거래일자  \\\n",
       "0       사과/유(1.5kg)   1.0  수지구  풍덕천동  여  45.0    40대  22207  매장C       NaN   \n",
       "1       느타리버섯(300g)   1.0  수지구  풍덕천동  여  36.0  30대이하   4977  매장C       NaN   \n",
       "2  유정란/매장용(10알/국내산)   1.0  수지구  풍덕천동  여  36.0  30대이하   7083  매장C       NaN   \n",
       "3         연두부(100g)   1.0  수지구  풍덕천동  여  36.0  30대이하    766  매장C       NaN   \n",
       "4   아침빵(240g/8개)/매장   1.0  수지구  풍덕천동  여  34.0  30대이하   4403  매장C       NaN   \n",
       "\n",
       "    구매시각  \n",
       "0  10:04  \n",
       "1  10:05  \n",
       "2  10:05  \n",
       "3  10:08  \n",
       "4  10:09  "
      ]
     },
     "execution_count": 6,
     "metadata": {},
     "output_type": "execute_result"
    }
   ],
   "source": [
    "df2 = pd.read_csv('2_data.csv')\n",
    "df2.head(5)"
   ]
  },
  {
   "cell_type": "markdown",
   "metadata": {},
   "source": [
    "**10.해당 데이터의 index를 확인하시오**"
   ]
  },
  {
   "cell_type": "code",
   "execution_count": 7,
   "metadata": {},
   "outputs": [
    {
     "data": {
      "text/plain": [
       "RangeIndex(start=0, stop=705571, step=1)"
      ]
     },
     "execution_count": 7,
     "metadata": {},
     "output_type": "execute_result"
    }
   ],
   "source": [
    "df2.index"
   ]
  },
  {
   "cell_type": "markdown",
   "metadata": {},
   "source": [
    "**11. 2_data.csv 데이터의 column을 확인하시오**"
   ]
  },
  {
   "cell_type": "code",
   "execution_count": 8,
   "metadata": {},
   "outputs": [
    {
     "data": {
      "text/plain": [
       "Index(['공급일자', '요일', '공급월', '공급주차', '회원번호', '조합원상태', '물품대분류', '물품중분류', '물품소분류',\n",
       "       '물품명', '구매수량', '주소-구', '주소-동', '성별', '연령', '연령대', '구매금액', '구매매장',\n",
       "       '반품_원거래일자', '구매시각'],\n",
       "      dtype='object')"
      ]
     },
     "execution_count": 8,
     "metadata": {},
     "output_type": "execute_result"
    }
   ],
   "source": [
    "df2.columns"
   ]
  },
  {
   "cell_type": "markdown",
   "metadata": {},
   "source": [
    "**12. 2_data.csv 데이터의 구매수량에 대한 평균을 계산하시오.**"
   ]
  },
  {
   "cell_type": "code",
   "execution_count": 9,
   "metadata": {},
   "outputs": [
    {
     "data": {
      "text/plain": [
       "1.138202689736349"
      ]
     },
     "execution_count": 9,
     "metadata": {},
     "output_type": "execute_result"
    }
   ],
   "source": [
    "df2['구매수량'].mean()"
   ]
  },
  {
   "cell_type": "markdown",
   "metadata": {},
   "source": [
    "**13. 2_data.csv 데이터의 \"물품 대분류\" 중, 축산물의 갯수를 계산하시오**"
   ]
  },
  {
   "cell_type": "code",
   "execution_count": 10,
   "metadata": {},
   "outputs": [
    {
     "data": {
      "text/plain": [
       "125387"
      ]
     },
     "execution_count": 10,
     "metadata": {},
     "output_type": "execute_result"
    }
   ],
   "source": [
    "len(df2.loc[df2['물품대분류'] == '축산물'])"
   ]
  },
  {
   "cell_type": "code",
   "execution_count": 11,
   "metadata": {},
   "outputs": [
    {
     "data": {
      "text/plain": [
       "채소       183235\n",
       "축산물      125387\n",
       "간식       111779\n",
       "반찬        85960\n",
       "수산        49853\n",
       "양념/가루     33695\n",
       "음료        31775\n",
       "생활용품      25447\n",
       "과실        19180\n",
       "주곡        10290\n",
       "잡곡        10228\n",
       "서류        10002\n",
       "건강         7142\n",
       "주류         1029\n",
       "기타          569\n",
       "Name: 물품대분류, dtype: int64"
      ]
     },
     "execution_count": 11,
     "metadata": {},
     "output_type": "execute_result"
    }
   ],
   "source": [
    "df2['물품대분류'].value_counts()"
   ]
  },
  {
   "cell_type": "markdown",
   "metadata": {},
   "source": [
    "**14 2_data.csv 데이터의 \"공급주차\"뒤에 차수를 붙이는 함수를(def) 만드시오.**"
   ]
  },
  {
   "cell_type": "markdown",
   "metadata": {},
   "source": [
    "Ex ) \n",
    "    * 입력 : 1 \n",
    "    * 결과 : 1주차 "
   ]
  },
  {
   "cell_type": "code",
   "execution_count": 12,
   "metadata": {},
   "outputs": [
    {
     "data": {
      "text/html": [
       "<div>\n",
       "<style scoped>\n",
       "    .dataframe tbody tr th:only-of-type {\n",
       "        vertical-align: middle;\n",
       "    }\n",
       "\n",
       "    .dataframe tbody tr th {\n",
       "        vertical-align: top;\n",
       "    }\n",
       "\n",
       "    .dataframe thead th {\n",
       "        text-align: right;\n",
       "    }\n",
       "</style>\n",
       "<table border=\"1\" class=\"dataframe\">\n",
       "  <thead>\n",
       "    <tr style=\"text-align: right;\">\n",
       "      <th></th>\n",
       "      <th>공급일자</th>\n",
       "      <th>요일</th>\n",
       "      <th>공급월</th>\n",
       "      <th>공급주차</th>\n",
       "      <th>회원번호</th>\n",
       "      <th>조합원상태</th>\n",
       "      <th>물품대분류</th>\n",
       "      <th>물품중분류</th>\n",
       "      <th>물품소분류</th>\n",
       "      <th>물품명</th>\n",
       "      <th>구매수량</th>\n",
       "      <th>주소-구</th>\n",
       "      <th>주소-동</th>\n",
       "      <th>성별</th>\n",
       "      <th>연령</th>\n",
       "      <th>연령대</th>\n",
       "      <th>구매금액</th>\n",
       "      <th>구매매장</th>\n",
       "      <th>반품_원거래일자</th>\n",
       "      <th>구매시각</th>\n",
       "    </tr>\n",
       "  </thead>\n",
       "  <tbody>\n",
       "    <tr>\n",
       "      <th>0</th>\n",
       "      <td>2018-01-02</td>\n",
       "      <td>화</td>\n",
       "      <td>1</td>\n",
       "      <td>1주차</td>\n",
       "      <td>272369856</td>\n",
       "      <td>정상회원</td>\n",
       "      <td>과실</td>\n",
       "      <td>과일</td>\n",
       "      <td>사과</td>\n",
       "      <td>사과/유(1.5kg)</td>\n",
       "      <td>1.0</td>\n",
       "      <td>수지구</td>\n",
       "      <td>풍덕천동</td>\n",
       "      <td>여</td>\n",
       "      <td>45.0</td>\n",
       "      <td>40대</td>\n",
       "      <td>22207</td>\n",
       "      <td>매장C</td>\n",
       "      <td>NaN</td>\n",
       "      <td>10:04</td>\n",
       "    </tr>\n",
       "    <tr>\n",
       "      <th>1</th>\n",
       "      <td>2018-01-02</td>\n",
       "      <td>화</td>\n",
       "      <td>1</td>\n",
       "      <td>1주차</td>\n",
       "      <td>1506656256</td>\n",
       "      <td>정상회원</td>\n",
       "      <td>채소</td>\n",
       "      <td>버섯</td>\n",
       "      <td>느타리버섯</td>\n",
       "      <td>느타리버섯(300g)</td>\n",
       "      <td>1.0</td>\n",
       "      <td>수지구</td>\n",
       "      <td>풍덕천동</td>\n",
       "      <td>여</td>\n",
       "      <td>36.0</td>\n",
       "      <td>30대이하</td>\n",
       "      <td>4977</td>\n",
       "      <td>매장C</td>\n",
       "      <td>NaN</td>\n",
       "      <td>10:05</td>\n",
       "    </tr>\n",
       "    <tr>\n",
       "      <th>2</th>\n",
       "      <td>2018-01-02</td>\n",
       "      <td>화</td>\n",
       "      <td>1</td>\n",
       "      <td>1주차</td>\n",
       "      <td>1506656256</td>\n",
       "      <td>정상회원</td>\n",
       "      <td>축산물</td>\n",
       "      <td>알</td>\n",
       "      <td>유정란</td>\n",
       "      <td>유정란/매장용(10알/국내산)</td>\n",
       "      <td>1.0</td>\n",
       "      <td>수지구</td>\n",
       "      <td>풍덕천동</td>\n",
       "      <td>여</td>\n",
       "      <td>36.0</td>\n",
       "      <td>30대이하</td>\n",
       "      <td>7083</td>\n",
       "      <td>매장C</td>\n",
       "      <td>NaN</td>\n",
       "      <td>10:05</td>\n",
       "    </tr>\n",
       "    <tr>\n",
       "      <th>3</th>\n",
       "      <td>2018-01-02</td>\n",
       "      <td>화</td>\n",
       "      <td>1</td>\n",
       "      <td>1주차</td>\n",
       "      <td>1023108864</td>\n",
       "      <td>정상회원</td>\n",
       "      <td>반찬</td>\n",
       "      <td>두부/유부</td>\n",
       "      <td>두부</td>\n",
       "      <td>연두부(100g)</td>\n",
       "      <td>1.0</td>\n",
       "      <td>수지구</td>\n",
       "      <td>풍덕천동</td>\n",
       "      <td>여</td>\n",
       "      <td>36.0</td>\n",
       "      <td>30대이하</td>\n",
       "      <td>766</td>\n",
       "      <td>매장C</td>\n",
       "      <td>NaN</td>\n",
       "      <td>10:08</td>\n",
       "    </tr>\n",
       "    <tr>\n",
       "      <th>4</th>\n",
       "      <td>2018-01-02</td>\n",
       "      <td>화</td>\n",
       "      <td>1</td>\n",
       "      <td>1주차</td>\n",
       "      <td>1476143616</td>\n",
       "      <td>정상회원</td>\n",
       "      <td>간식</td>\n",
       "      <td>빵</td>\n",
       "      <td>식빵, 식사대용</td>\n",
       "      <td>아침빵(240g/8개)/매장</td>\n",
       "      <td>1.0</td>\n",
       "      <td>수지구</td>\n",
       "      <td>풍덕천동</td>\n",
       "      <td>여</td>\n",
       "      <td>34.0</td>\n",
       "      <td>30대이하</td>\n",
       "      <td>4403</td>\n",
       "      <td>매장C</td>\n",
       "      <td>NaN</td>\n",
       "      <td>10:09</td>\n",
       "    </tr>\n",
       "  </tbody>\n",
       "</table>\n",
       "</div>"
      ],
      "text/plain": [
       "         공급일자 요일  공급월 공급주차        회원번호 조합원상태 물품대분류  물품중분류     물품소분류  \\\n",
       "0  2018-01-02  화    1  1주차   272369856  정상회원    과실     과일        사과   \n",
       "1  2018-01-02  화    1  1주차  1506656256  정상회원    채소     버섯     느타리버섯   \n",
       "2  2018-01-02  화    1  1주차  1506656256  정상회원   축산물      알       유정란   \n",
       "3  2018-01-02  화    1  1주차  1023108864  정상회원    반찬  두부/유부        두부   \n",
       "4  2018-01-02  화    1  1주차  1476143616  정상회원    간식      빵  식빵, 식사대용   \n",
       "\n",
       "                물품명  구매수량 주소-구  주소-동 성별    연령    연령대   구매금액 구매매장  반품_원거래일자  \\\n",
       "0       사과/유(1.5kg)   1.0  수지구  풍덕천동  여  45.0    40대  22207  매장C       NaN   \n",
       "1       느타리버섯(300g)   1.0  수지구  풍덕천동  여  36.0  30대이하   4977  매장C       NaN   \n",
       "2  유정란/매장용(10알/국내산)   1.0  수지구  풍덕천동  여  36.0  30대이하   7083  매장C       NaN   \n",
       "3         연두부(100g)   1.0  수지구  풍덕천동  여  36.0  30대이하    766  매장C       NaN   \n",
       "4   아침빵(240g/8개)/매장   1.0  수지구  풍덕천동  여  34.0  30대이하   4403  매장C       NaN   \n",
       "\n",
       "    구매시각  \n",
       "0  10:04  \n",
       "1  10:05  \n",
       "2  10:05  \n",
       "3  10:08  \n",
       "4  10:09  "
      ]
     },
     "execution_count": 12,
     "metadata": {},
     "output_type": "execute_result"
    }
   ],
   "source": [
    "def put_week(x):\n",
    "    return str(x) +'주차'\n",
    "    \n",
    "\n",
    "df2['공급주차'] = df2['공급주차'].apply(put_week)\n",
    "\n",
    "df2.head(5)"
   ]
  },
  {
   "cell_type": "markdown",
   "metadata": {},
   "source": [
    "**15. 2_data.csv 데이터의 \"성별\"을 replace 함수를 이용하여, '남성'은 1, '여성'은 0으로 데이터를 변환하시오**"
   ]
  },
  {
   "cell_type": "code",
   "execution_count": 13,
   "metadata": {},
   "outputs": [],
   "source": [
    "df2['성별'] = df2['성별'].replace({'남': 1, '여': 0})\n"
   ]
  },
  {
   "cell_type": "code",
   "execution_count": 14,
   "metadata": {},
   "outputs": [
    {
     "data": {
      "text/html": [
       "<div>\n",
       "<style scoped>\n",
       "    .dataframe tbody tr th:only-of-type {\n",
       "        vertical-align: middle;\n",
       "    }\n",
       "\n",
       "    .dataframe tbody tr th {\n",
       "        vertical-align: top;\n",
       "    }\n",
       "\n",
       "    .dataframe thead th {\n",
       "        text-align: right;\n",
       "    }\n",
       "</style>\n",
       "<table border=\"1\" class=\"dataframe\">\n",
       "  <thead>\n",
       "    <tr style=\"text-align: right;\">\n",
       "      <th></th>\n",
       "      <th>공급일자</th>\n",
       "      <th>요일</th>\n",
       "      <th>공급월</th>\n",
       "      <th>공급주차</th>\n",
       "      <th>회원번호</th>\n",
       "      <th>조합원상태</th>\n",
       "      <th>물품대분류</th>\n",
       "      <th>물품중분류</th>\n",
       "      <th>물품소분류</th>\n",
       "      <th>물품명</th>\n",
       "      <th>구매수량</th>\n",
       "      <th>주소-구</th>\n",
       "      <th>주소-동</th>\n",
       "      <th>성별</th>\n",
       "      <th>연령</th>\n",
       "      <th>연령대</th>\n",
       "      <th>구매금액</th>\n",
       "      <th>구매매장</th>\n",
       "      <th>반품_원거래일자</th>\n",
       "      <th>구매시각</th>\n",
       "    </tr>\n",
       "  </thead>\n",
       "  <tbody>\n",
       "    <tr>\n",
       "      <th>0</th>\n",
       "      <td>2018-01-02</td>\n",
       "      <td>화</td>\n",
       "      <td>1</td>\n",
       "      <td>1주차</td>\n",
       "      <td>272369856</td>\n",
       "      <td>정상회원</td>\n",
       "      <td>과실</td>\n",
       "      <td>과일</td>\n",
       "      <td>사과</td>\n",
       "      <td>사과/유(1.5kg)</td>\n",
       "      <td>1.0</td>\n",
       "      <td>수지구</td>\n",
       "      <td>풍덕천동</td>\n",
       "      <td>0.0</td>\n",
       "      <td>45.0</td>\n",
       "      <td>40대</td>\n",
       "      <td>22207</td>\n",
       "      <td>매장C</td>\n",
       "      <td>NaN</td>\n",
       "      <td>10:04</td>\n",
       "    </tr>\n",
       "    <tr>\n",
       "      <th>1</th>\n",
       "      <td>2018-01-02</td>\n",
       "      <td>화</td>\n",
       "      <td>1</td>\n",
       "      <td>1주차</td>\n",
       "      <td>1506656256</td>\n",
       "      <td>정상회원</td>\n",
       "      <td>채소</td>\n",
       "      <td>버섯</td>\n",
       "      <td>느타리버섯</td>\n",
       "      <td>느타리버섯(300g)</td>\n",
       "      <td>1.0</td>\n",
       "      <td>수지구</td>\n",
       "      <td>풍덕천동</td>\n",
       "      <td>0.0</td>\n",
       "      <td>36.0</td>\n",
       "      <td>30대이하</td>\n",
       "      <td>4977</td>\n",
       "      <td>매장C</td>\n",
       "      <td>NaN</td>\n",
       "      <td>10:05</td>\n",
       "    </tr>\n",
       "    <tr>\n",
       "      <th>2</th>\n",
       "      <td>2018-01-02</td>\n",
       "      <td>화</td>\n",
       "      <td>1</td>\n",
       "      <td>1주차</td>\n",
       "      <td>1506656256</td>\n",
       "      <td>정상회원</td>\n",
       "      <td>축산물</td>\n",
       "      <td>알</td>\n",
       "      <td>유정란</td>\n",
       "      <td>유정란/매장용(10알/국내산)</td>\n",
       "      <td>1.0</td>\n",
       "      <td>수지구</td>\n",
       "      <td>풍덕천동</td>\n",
       "      <td>0.0</td>\n",
       "      <td>36.0</td>\n",
       "      <td>30대이하</td>\n",
       "      <td>7083</td>\n",
       "      <td>매장C</td>\n",
       "      <td>NaN</td>\n",
       "      <td>10:05</td>\n",
       "    </tr>\n",
       "    <tr>\n",
       "      <th>3</th>\n",
       "      <td>2018-01-02</td>\n",
       "      <td>화</td>\n",
       "      <td>1</td>\n",
       "      <td>1주차</td>\n",
       "      <td>1023108864</td>\n",
       "      <td>정상회원</td>\n",
       "      <td>반찬</td>\n",
       "      <td>두부/유부</td>\n",
       "      <td>두부</td>\n",
       "      <td>연두부(100g)</td>\n",
       "      <td>1.0</td>\n",
       "      <td>수지구</td>\n",
       "      <td>풍덕천동</td>\n",
       "      <td>0.0</td>\n",
       "      <td>36.0</td>\n",
       "      <td>30대이하</td>\n",
       "      <td>766</td>\n",
       "      <td>매장C</td>\n",
       "      <td>NaN</td>\n",
       "      <td>10:08</td>\n",
       "    </tr>\n",
       "    <tr>\n",
       "      <th>4</th>\n",
       "      <td>2018-01-02</td>\n",
       "      <td>화</td>\n",
       "      <td>1</td>\n",
       "      <td>1주차</td>\n",
       "      <td>1476143616</td>\n",
       "      <td>정상회원</td>\n",
       "      <td>간식</td>\n",
       "      <td>빵</td>\n",
       "      <td>식빵, 식사대용</td>\n",
       "      <td>아침빵(240g/8개)/매장</td>\n",
       "      <td>1.0</td>\n",
       "      <td>수지구</td>\n",
       "      <td>풍덕천동</td>\n",
       "      <td>0.0</td>\n",
       "      <td>34.0</td>\n",
       "      <td>30대이하</td>\n",
       "      <td>4403</td>\n",
       "      <td>매장C</td>\n",
       "      <td>NaN</td>\n",
       "      <td>10:09</td>\n",
       "    </tr>\n",
       "    <tr>\n",
       "      <th>...</th>\n",
       "      <td>...</td>\n",
       "      <td>...</td>\n",
       "      <td>...</td>\n",
       "      <td>...</td>\n",
       "      <td>...</td>\n",
       "      <td>...</td>\n",
       "      <td>...</td>\n",
       "      <td>...</td>\n",
       "      <td>...</td>\n",
       "      <td>...</td>\n",
       "      <td>...</td>\n",
       "      <td>...</td>\n",
       "      <td>...</td>\n",
       "      <td>...</td>\n",
       "      <td>...</td>\n",
       "      <td>...</td>\n",
       "      <td>...</td>\n",
       "      <td>...</td>\n",
       "      <td>...</td>\n",
       "      <td>...</td>\n",
       "    </tr>\n",
       "    <tr>\n",
       "      <th>705566</th>\n",
       "      <td>2018-06-30</td>\n",
       "      <td>토</td>\n",
       "      <td>6</td>\n",
       "      <td>26주차</td>\n",
       "      <td>146297344</td>\n",
       "      <td>정상회원</td>\n",
       "      <td>수산</td>\n",
       "      <td>건어물</td>\n",
       "      <td>멸치류</td>\n",
       "      <td>국물멸치(300g)</td>\n",
       "      <td>1.0</td>\n",
       "      <td>수지구</td>\n",
       "      <td>성복동</td>\n",
       "      <td>0.0</td>\n",
       "      <td>51.0</td>\n",
       "      <td>50대</td>\n",
       "      <td>9189</td>\n",
       "      <td>매장A</td>\n",
       "      <td>NaN</td>\n",
       "      <td>17:56</td>\n",
       "    </tr>\n",
       "    <tr>\n",
       "      <th>705567</th>\n",
       "      <td>2018-06-30</td>\n",
       "      <td>토</td>\n",
       "      <td>6</td>\n",
       "      <td>26주차</td>\n",
       "      <td>1532985472</td>\n",
       "      <td>정상회원</td>\n",
       "      <td>수산</td>\n",
       "      <td>해조</td>\n",
       "      <td>미역/다시마</td>\n",
       "      <td>자른다시마(100g)</td>\n",
       "      <td>1.0</td>\n",
       "      <td>수지구</td>\n",
       "      <td>동천동</td>\n",
       "      <td>0.0</td>\n",
       "      <td>63.0</td>\n",
       "      <td>60대</td>\n",
       "      <td>5169</td>\n",
       "      <td>매장A</td>\n",
       "      <td>NaN</td>\n",
       "      <td>14:37</td>\n",
       "    </tr>\n",
       "    <tr>\n",
       "      <th>705568</th>\n",
       "      <td>2018-06-30</td>\n",
       "      <td>토</td>\n",
       "      <td>6</td>\n",
       "      <td>26주차</td>\n",
       "      <td>1532985472</td>\n",
       "      <td>정상회원</td>\n",
       "      <td>반찬</td>\n",
       "      <td>두부/유부</td>\n",
       "      <td>두부</td>\n",
       "      <td>두부(1모:420g)</td>\n",
       "      <td>2.0</td>\n",
       "      <td>수지구</td>\n",
       "      <td>동천동</td>\n",
       "      <td>0.0</td>\n",
       "      <td>63.0</td>\n",
       "      <td>60대</td>\n",
       "      <td>7466</td>\n",
       "      <td>매장A</td>\n",
       "      <td>NaN</td>\n",
       "      <td>14:37</td>\n",
       "    </tr>\n",
       "    <tr>\n",
       "      <th>705569</th>\n",
       "      <td>2018-06-30</td>\n",
       "      <td>토</td>\n",
       "      <td>6</td>\n",
       "      <td>26주차</td>\n",
       "      <td>1209779776</td>\n",
       "      <td>정상회원</td>\n",
       "      <td>간식</td>\n",
       "      <td>과자</td>\n",
       "      <td>스낵</td>\n",
       "      <td>하늘바다새우(60g)</td>\n",
       "      <td>1.0</td>\n",
       "      <td>수지구</td>\n",
       "      <td>동천동</td>\n",
       "      <td>0.0</td>\n",
       "      <td>41.0</td>\n",
       "      <td>40대</td>\n",
       "      <td>3542</td>\n",
       "      <td>매장A</td>\n",
       "      <td>NaN</td>\n",
       "      <td>18:04</td>\n",
       "    </tr>\n",
       "    <tr>\n",
       "      <th>705570</th>\n",
       "      <td>2018-06-30</td>\n",
       "      <td>토</td>\n",
       "      <td>6</td>\n",
       "      <td>26주차</td>\n",
       "      <td>301961920</td>\n",
       "      <td>정상회원</td>\n",
       "      <td>음료</td>\n",
       "      <td>음료</td>\n",
       "      <td>빙과</td>\n",
       "      <td>포도꽁꽁(120ml)/매장용</td>\n",
       "      <td>1.0</td>\n",
       "      <td>수지구</td>\n",
       "      <td>풍덕천동</td>\n",
       "      <td>0.0</td>\n",
       "      <td>49.0</td>\n",
       "      <td>40대</td>\n",
       "      <td>1914</td>\n",
       "      <td>매장A</td>\n",
       "      <td>NaN</td>\n",
       "      <td>16:36</td>\n",
       "    </tr>\n",
       "  </tbody>\n",
       "</table>\n",
       "<p>705571 rows × 20 columns</p>\n",
       "</div>"
      ],
      "text/plain": [
       "              공급일자 요일  공급월  공급주차        회원번호 조합원상태 물품대분류  물품중분류     물품소분류  \\\n",
       "0       2018-01-02  화    1   1주차   272369856  정상회원    과실     과일        사과   \n",
       "1       2018-01-02  화    1   1주차  1506656256  정상회원    채소     버섯     느타리버섯   \n",
       "2       2018-01-02  화    1   1주차  1506656256  정상회원   축산물      알       유정란   \n",
       "3       2018-01-02  화    1   1주차  1023108864  정상회원    반찬  두부/유부        두부   \n",
       "4       2018-01-02  화    1   1주차  1476143616  정상회원    간식      빵  식빵, 식사대용   \n",
       "...            ... ..  ...   ...         ...   ...   ...    ...       ...   \n",
       "705566  2018-06-30  토    6  26주차   146297344  정상회원    수산    건어물       멸치류   \n",
       "705567  2018-06-30  토    6  26주차  1532985472  정상회원    수산     해조    미역/다시마   \n",
       "705568  2018-06-30  토    6  26주차  1532985472  정상회원    반찬  두부/유부        두부   \n",
       "705569  2018-06-30  토    6  26주차  1209779776  정상회원    간식     과자        스낵   \n",
       "705570  2018-06-30  토    6  26주차   301961920  정상회원    음료     음료        빙과   \n",
       "\n",
       "                     물품명  구매수량 주소-구  주소-동   성별    연령    연령대   구매금액 구매매장  \\\n",
       "0            사과/유(1.5kg)   1.0  수지구  풍덕천동  0.0  45.0    40대  22207  매장C   \n",
       "1            느타리버섯(300g)   1.0  수지구  풍덕천동  0.0  36.0  30대이하   4977  매장C   \n",
       "2       유정란/매장용(10알/국내산)   1.0  수지구  풍덕천동  0.0  36.0  30대이하   7083  매장C   \n",
       "3              연두부(100g)   1.0  수지구  풍덕천동  0.0  36.0  30대이하    766  매장C   \n",
       "4        아침빵(240g/8개)/매장   1.0  수지구  풍덕천동  0.0  34.0  30대이하   4403  매장C   \n",
       "...                  ...   ...  ...   ...  ...   ...    ...    ...  ...   \n",
       "705566        국물멸치(300g)   1.0  수지구   성복동  0.0  51.0    50대   9189  매장A   \n",
       "705567       자른다시마(100g)   1.0  수지구   동천동  0.0  63.0    60대   5169  매장A   \n",
       "705568       두부(1모:420g)   2.0  수지구   동천동  0.0  63.0    60대   7466  매장A   \n",
       "705569       하늘바다새우(60g)   1.0  수지구   동천동  0.0  41.0    40대   3542  매장A   \n",
       "705570   포도꽁꽁(120ml)/매장용   1.0  수지구  풍덕천동  0.0  49.0    40대   1914  매장A   \n",
       "\n",
       "        반품_원거래일자   구매시각  \n",
       "0            NaN  10:04  \n",
       "1            NaN  10:05  \n",
       "2            NaN  10:05  \n",
       "3            NaN  10:08  \n",
       "4            NaN  10:09  \n",
       "...          ...    ...  \n",
       "705566       NaN  17:56  \n",
       "705567       NaN  14:37  \n",
       "705568       NaN  14:37  \n",
       "705569       NaN  18:04  \n",
       "705570       NaN  16:36  \n",
       "\n",
       "[705571 rows x 20 columns]"
      ]
     },
     "execution_count": 14,
     "metadata": {},
     "output_type": "execute_result"
    }
   ],
   "source": [
    "df2"
   ]
  },
  {
   "cell_type": "markdown",
   "metadata": {},
   "source": [
    "**16. 만약 본인이 동천마켓의 CEO라면 어떤 데이터 분석을 실시하겠습니까? \n",
    "5가지만 요약해서 작성해 주세요** "
   ]
  },
  {
   "cell_type": "code",
   "execution_count": null,
   "metadata": {},
   "outputs": [],
   "source": []
  }
 ],
 "metadata": {
  "kernelspec": {
   "display_name": "Python 3 (ipykernel)",
   "language": "python",
   "name": "python3"
  },
  "language_info": {
   "codemirror_mode": {
    "name": "ipython",
    "version": 3
   },
   "file_extension": ".py",
   "mimetype": "text/x-python",
   "name": "python",
   "nbconvert_exporter": "python",
   "pygments_lexer": "ipython3",
   "version": "3.8.12"
  },
  "toc": {
   "base_numbering": 1,
   "nav_menu": {},
   "number_sections": true,
   "sideBar": true,
   "skip_h1_title": false,
   "title_cell": "Table of Contents",
   "title_sidebar": "Contents",
   "toc_cell": false,
   "toc_position": {},
   "toc_section_display": true,
   "toc_window_display": false
  }
 },
 "nbformat": 4,
 "nbformat_minor": 2
}
